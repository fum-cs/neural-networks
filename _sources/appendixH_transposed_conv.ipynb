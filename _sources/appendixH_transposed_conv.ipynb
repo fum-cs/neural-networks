{
 "cells": [
  {
   "cell_type": "markdown",
   "id": "02d02c5b",
   "metadata": {
    "id": "02d02c5b",
    "origin_pos": 0
   },
   "source": [
    "# Transposed Convolution\n",
    ":label:`sec_transposed_conv`\n",
    "\n",
    "The CNN layers we have seen so far,\n",
    "such as convolutional layers (:numref:`sec_conv_layer`) and pooling layers (:numref:`sec_pooling`),\n",
    "typically reduce (downsample) the spatial dimensions (height and width) of the input,\n",
    "or keep them unchanged.\n",
    "In semantic segmentation\n",
    "that classifies at pixel-level,\n",
    "it will be convenient if\n",
    "the spatial dimensions of the\n",
    "input and output are the same.\n",
    "For example,\n",
    "the channel dimension at one output pixel\n",
    "can hold the classification results\n",
    "for the input pixel at the same spatial position.\n",
    "\n",
    "\n",
    "To achieve this, especially after\n",
    "the spatial dimensions are reduced by CNN layers,\n",
    "we can use another type\n",
    "of CNN layers\n",
    "that can increase (upsample) the spatial dimensions\n",
    "of intermediate feature maps.\n",
    "In this section,\n",
    "we will introduce\n",
    "*transposed convolution*, which is also called *fractionally-strided convolution* :cite:`Dumoulin.Visin.2016`,\n",
    "for reversing downsampling operations\n",
    "by the convolution.\n"
   ]
  },
  {
   "cell_type": "code",
   "execution_count": 1,
   "id": "64ac86cc",
   "metadata": {
    "execution": {
     "iopub.execute_input": "2023-08-18T19:40:30.453582Z",
     "iopub.status.busy": "2023-08-18T19:40:30.453269Z",
     "iopub.status.idle": "2023-08-18T19:40:33.572095Z",
     "shell.execute_reply": "2023-08-18T19:40:33.570416Z"
    },
    "id": "64ac86cc",
    "origin_pos": 2,
    "tab": [
     "pytorch"
    ]
   },
   "outputs": [],
   "source": [
    "import torch\n",
    "from torch import nn\n",
    "# from d2l import torch as d2l"
   ]
  },
  {
   "cell_type": "markdown",
   "id": "67e53c32",
   "metadata": {
    "id": "67e53c32",
    "origin_pos": 3
   },
   "source": [
    "## Basic Operation\n",
    "\n",
    "Ignoring channels for now,\n",
    "let's begin with\n",
    "the basic transposed convolution operation\n",
    "with stride of 1 and no padding.\n",
    "Suppose that\n",
    "we are given a\n",
    "$n_h \\times n_w$ input tensor\n",
    "and a $k_h \\times k_w$ kernel.\n",
    "Sliding the kernel window with stride of 1\n",
    "for $n_w$ times in each row\n",
    "and $n_h$ times in each column\n",
    "yields\n",
    "a total of $n_h n_w$ intermediate results.\n",
    "Each intermediate result is\n",
    "a $(n_h + k_h - 1) \\times (n_w + k_w - 1)$\n",
    "tensor that are initialized as zeros.\n",
    "To compute each intermediate tensor,\n",
    "each element in the input tensor\n",
    "is multiplied by the kernel\n",
    "so that the resulting $k_h \\times k_w$ tensor\n",
    "replaces a portion in\n",
    "each intermediate tensor.\n",
    "Note that\n",
    "the position of the replaced portion in each\n",
    "intermediate tensor corresponds to the position of the element\n",
    "in the input tensor used for the computation.\n",
    "In the end, all the intermediate results\n",
    "are summed over to produce the output.\n",
    "\n",
    "As an example,\n",
    ":numref:`fig_trans_conv` illustrates\n",
    "how transposed convolution with a $2\\times 2$ kernel is computed for a $2\\times 2$ input tensor.\n",
    "\n",
    "\n",
    "![Transposed convolution with a $2\\times 2$ kernel. The shaded portions are a portion of an intermediate tensor as well as the input and kernel tensor elements used for the  computation.](http://d2l.ai/_images/trans_conv.svg)\n",
    ":label:`fig_trans_conv`\n",
    "\n",
    "\n",
    "We can (**implement this basic transposed convolution operation**) `trans_conv` for a input matrix `X` and a kernel matrix `K`.\n"
   ]
  },
  {
   "cell_type": "code",
   "execution_count": 2,
   "id": "8d01fcf9",
   "metadata": {
    "execution": {
     "iopub.execute_input": "2023-08-18T19:40:33.580872Z",
     "iopub.status.busy": "2023-08-18T19:40:33.579987Z",
     "iopub.status.idle": "2023-08-18T19:40:33.594490Z",
     "shell.execute_reply": "2023-08-18T19:40:33.593361Z"
    },
    "id": "8d01fcf9",
    "origin_pos": 4,
    "tab": [
     "pytorch"
    ]
   },
   "outputs": [],
   "source": [
    "def trans_conv(X, K):\n",
    "    h, w = K.shape\n",
    "    Y = torch.zeros((X.shape[0] + h - 1, X.shape[1] + w - 1))\n",
    "    for i in range(X.shape[0]):\n",
    "        for j in range(X.shape[1]):\n",
    "            Y[i: i + h, j: j + w] += X[i, j] * K\n",
    "    return Y"
   ]
  },
  {
   "cell_type": "markdown",
   "id": "e33e6143",
   "metadata": {
    "id": "e33e6143",
    "origin_pos": 5
   },
   "source": [
    "In contrast to the regular convolution (in :numref:`sec_conv_layer`) that *reduces* input elements\n",
    "via the kernel,\n",
    "the transposed convolution\n",
    "*broadcasts* input elements\n",
    "via the kernel, thereby\n",
    "producing an output\n",
    "that is larger than the input.\n",
    "We can construct the input tensor `X` and the kernel tensor `K` from :numref:`fig_trans_conv` to [**validate the output of the above implementation**] of the basic two-dimensional transposed convolution operation.\n"
   ]
  },
  {
   "cell_type": "code",
   "execution_count": 3,
   "id": "75ed0b6d",
   "metadata": {
    "execution": {
     "iopub.execute_input": "2023-08-18T19:40:33.598934Z",
     "iopub.status.busy": "2023-08-18T19:40:33.598651Z",
     "iopub.status.idle": "2023-08-18T19:40:33.626958Z",
     "shell.execute_reply": "2023-08-18T19:40:33.625781Z"
    },
    "id": "75ed0b6d",
    "origin_pos": 6,
    "outputId": "4548a6f4-fe59-4047-a3ab-0beb512600d9",
    "tab": [
     "pytorch"
    ]
   },
   "outputs": [
    {
     "data": {
      "text/plain": [
       "tensor([[ 0.,  0.,  1.],\n",
       "        [ 0.,  4.,  6.],\n",
       "        [ 4., 12.,  9.]])"
      ]
     },
     "execution_count": 3,
     "metadata": {},
     "output_type": "execute_result"
    }
   ],
   "source": [
    "X = torch.tensor([[0.0, 1.0], [2.0, 3.0]])\n",
    "K = torch.tensor([[0.0, 1.0], [2.0, 3.0]])\n",
    "trans_conv(X, K)"
   ]
  },
  {
   "cell_type": "markdown",
   "id": "060319a4",
   "metadata": {
    "id": "060319a4",
    "origin_pos": 7
   },
   "source": [
    "Alternatively,\n",
    "when the input `X` and kernel `K` are both\n",
    "four-dimensional tensors,\n",
    "we can [**use high-level APIs to obtain the same results**].\n"
   ]
  },
  {
   "cell_type": "code",
   "execution_count": 4,
   "id": "e1ad37e5",
   "metadata": {
    "execution": {
     "iopub.execute_input": "2023-08-18T19:40:33.632024Z",
     "iopub.status.busy": "2023-08-18T19:40:33.631545Z",
     "iopub.status.idle": "2023-08-18T19:40:33.647991Z",
     "shell.execute_reply": "2023-08-18T19:40:33.646736Z"
    },
    "id": "e1ad37e5",
    "origin_pos": 9,
    "outputId": "0fa769b9-7f1a-4f61-8379-c2320f7d5541",
    "tab": [
     "pytorch"
    ]
   },
   "outputs": [
    {
     "data": {
      "text/plain": [
       "tensor([[[[ 0.,  0.,  1.],\n",
       "          [ 0.,  4.,  6.],\n",
       "          [ 4., 12.,  9.]]]], grad_fn=<ConvolutionBackward0>)"
      ]
     },
     "execution_count": 4,
     "metadata": {},
     "output_type": "execute_result"
    }
   ],
   "source": [
    "X, K = X.reshape(1, 1, 2, 2), K.reshape(1, 1, 2, 2)\n",
    "tconv = nn.ConvTranspose2d(1, 1, kernel_size=2, bias=False)\n",
    "tconv.weight.data = K\n",
    "tconv(X)"
   ]
  },
  {
   "cell_type": "markdown",
   "id": "53afbb91",
   "metadata": {
    "id": "53afbb91",
    "origin_pos": 10
   },
   "source": [
    "## [**Padding, Strides, and Multiple Channels**]\n",
    "\n",
    "Different from in the regular convolution\n",
    "where padding is applied to input,\n",
    "it is applied to output\n",
    "in the transposed convolution.\n",
    "For example,\n",
    "when specifying the padding number\n",
    "on either side of the height and width\n",
    "as 1,\n",
    "the first and last rows and columns\n",
    "will be removed from the transposed convolution output.\n"
   ]
  },
  {
   "cell_type": "code",
   "execution_count": 6,
   "id": "1048beb2",
   "metadata": {
    "execution": {
     "iopub.execute_input": "2023-08-18T19:40:33.653300Z",
     "iopub.status.busy": "2023-08-18T19:40:33.652500Z",
     "iopub.status.idle": "2023-08-18T19:40:33.662731Z",
     "shell.execute_reply": "2023-08-18T19:40:33.661823Z"
    },
    "id": "1048beb2",
    "origin_pos": 12,
    "outputId": "3f602cde-5602-4b50-c3f1-d6b04ed7217e",
    "tab": [
     "pytorch"
    ]
   },
   "outputs": [
    {
     "data": {
      "text/plain": [
       "tensor([[[[4.]]]], grad_fn=<ConvolutionBackward0>)"
      ]
     },
     "execution_count": 6,
     "metadata": {},
     "output_type": "execute_result"
    }
   ],
   "source": [
    "tconv = nn.ConvTranspose2d(1, 1, kernel_size=2, padding=1, bias=False)\n",
    "tconv.weight.data = K\n",
    "tconv(X)"
   ]
  },
  {
   "cell_type": "markdown",
   "id": "549fc8f2",
   "metadata": {
    "id": "549fc8f2",
    "origin_pos": 13
   },
   "source": [
    "In the transposed convolution,\n",
    "strides are specified for intermediate results (thus output), not for input.\n",
    "Using the same input and kernel tensors\n",
    "from :numref:`fig_trans_conv`,\n",
    "changing the stride from 1 to 2\n",
    "increases both the height and weight\n",
    "of intermediate tensors, hence the output tensor\n",
    "in :numref:`fig_trans_conv_stride2`.\n",
    "\n",
    "\n",
    "![Transposed convolution with a $2\\times 2$ kernel with stride of 2. The shaded portions are a portion of an intermediate tensor as well as the input and kernel tensor elements used for the  computation.](http://d2l.ai/_images/trans_conv_stride2.svg)\n",
    ":label:`fig_trans_conv_stride2`\n",
    "\n",
    "\n",
    "\n",
    "The following code snippet can validate the transposed convolution output for stride of 2 in :numref:`fig_trans_conv_stride2`.\n"
   ]
  },
  {
   "cell_type": "code",
   "execution_count": 7,
   "id": "72cccf5f",
   "metadata": {
    "execution": {
     "iopub.execute_input": "2023-08-18T19:40:33.667420Z",
     "iopub.status.busy": "2023-08-18T19:40:33.666693Z",
     "iopub.status.idle": "2023-08-18T19:40:33.676004Z",
     "shell.execute_reply": "2023-08-18T19:40:33.675089Z"
    },
    "id": "72cccf5f",
    "origin_pos": 15,
    "outputId": "7476ea42-e541-42a2-adff-34cb5a82ffb1",
    "tab": [
     "pytorch"
    ]
   },
   "outputs": [
    {
     "data": {
      "text/plain": [
       "tensor([[[[0., 0., 0., 1.],\n",
       "          [0., 0., 2., 3.],\n",
       "          [0., 2., 0., 3.],\n",
       "          [4., 6., 6., 9.]]]], grad_fn=<ConvolutionBackward0>)"
      ]
     },
     "execution_count": 7,
     "metadata": {},
     "output_type": "execute_result"
    }
   ],
   "source": [
    "tconv = nn.ConvTranspose2d(1, 1, kernel_size=2, stride=2, bias=False)\n",
    "tconv.weight.data = K\n",
    "tconv(X)"
   ]
  },
  {
   "cell_type": "markdown",
   "id": "4ecbf916",
   "metadata": {
    "id": "4ecbf916",
    "origin_pos": 16
   },
   "source": [
    "For multiple input and output channels,\n",
    "the transposed convolution\n",
    "works in the same way as the regular convolution.\n",
    "Suppose that\n",
    "the input has $c_i$ channels,\n",
    "and that the transposed convolution\n",
    "assigns a $k_h\\times k_w$ kernel tensor\n",
    "to each input channel.\n",
    "When multiple output channels\n",
    "are specified,\n",
    "we will have a $c_i\\times k_h\\times k_w$ kernel for each output channel.\n",
    "\n",
    "\n",
    "As in all, if we feed $\\mathsf{X}$ into a convolutional layer $f$ to output $\\mathsf{Y}=f(\\mathsf{X})$ and create a transposed convolutional layer $g$ with the same hyperparameters as $f$ except\n",
    "for the number of output channels\n",
    "being the number of channels in $\\mathsf{X}$,\n",
    "then $g(Y)$ will have the same shape as $\\mathsf{X}$.\n",
    "This can be illustrated in the following example.\n"
   ]
  },
  {
   "cell_type": "code",
   "execution_count": 8,
   "id": "5f8aac99",
   "metadata": {
    "execution": {
     "iopub.execute_input": "2023-08-18T19:40:33.679264Z",
     "iopub.status.busy": "2023-08-18T19:40:33.678924Z",
     "iopub.status.idle": "2023-08-18T19:40:33.724131Z",
     "shell.execute_reply": "2023-08-18T19:40:33.723022Z"
    },
    "id": "5f8aac99",
    "origin_pos": 18,
    "outputId": "174ba9ea-b44d-4452-c7e9-00964c126d74",
    "tab": [
     "pytorch"
    ]
   },
   "outputs": [
    {
     "data": {
      "text/plain": [
       "True"
      ]
     },
     "execution_count": 8,
     "metadata": {},
     "output_type": "execute_result"
    }
   ],
   "source": [
    "X = torch.rand(size=(1, 10, 16, 16))\n",
    "conv = nn.Conv2d(10, 20, kernel_size=5, padding=2, stride=3)\n",
    "tconv = nn.ConvTranspose2d(20, 10, kernel_size=5, padding=2, stride=3)\n",
    "tconv(conv(X)).shape == X.shape"
   ]
  },
  {
   "cell_type": "markdown",
   "id": "65785832",
   "metadata": {
    "id": "65785832",
    "origin_pos": 19
   },
   "source": [
    "## [**Connection to Matrix Transposition**]\n",
    ":label:`subsec-connection-to-mat-transposition`\n",
    "\n",
    "The transposed convolution is named after\n",
    "the matrix transposition.\n",
    "To explain,\n",
    "let's first\n",
    "see how to implement convolutions\n",
    "using matrix multiplications.\n",
    "In the example below, we define a $3\\times 3$ input `X` and a $2\\times 2$ convolution kernel `K`, and then use the `corr2d` function to compute the convolution output `Y`.\n"
   ]
  },
  {
   "cell_type": "code",
   "execution_count": 34,
   "id": "54c1abd6",
   "metadata": {
    "execution": {
     "iopub.execute_input": "2023-08-18T19:40:33.727935Z",
     "iopub.status.busy": "2023-08-18T19:40:33.727252Z",
     "iopub.status.idle": "2023-08-18T19:40:33.735227Z",
     "shell.execute_reply": "2023-08-18T19:40:33.734426Z"
    },
    "id": "54c1abd6",
    "origin_pos": 20,
    "outputId": "4330549a-ec3d-4adb-f416-e837f92dbe82",
    "tab": [
     "pytorch"
    ]
   },
   "outputs": [
    {
     "name": "stdout",
     "output_type": "stream",
     "text": [
      "tensor([[0., 1., 2.],\n",
      "        [3., 4., 5.],\n",
      "        [6., 7., 8.]])\n",
      "tensor([[1., 2.],\n",
      "        [3., 4.]])\n",
      "[[27. 37.]\n",
      " [57. 67.]]\n"
     ]
    }
   ],
   "source": [
    "from scipy import signal\n",
    "\n",
    "X = torch.arange(9.0).reshape(3, 3)\n",
    "K = torch.tensor([[1.0, 2.0], [3.0, 4.0]])\n",
    "# Y = d2l.corr2d(X, K)\n",
    "Y = signal.correlate2d(X, K, mode=\"valid\")\n",
    "print(X)\n",
    "print(K)\n",
    "print(Y)"
   ]
  },
  {
   "cell_type": "code",
   "execution_count": 35,
   "id": "59a71299",
   "metadata": {},
   "outputs": [
    {
     "data": {
      "text/plain": [
       "array([[-2. ,  1. ],\n",
       "       [ 1.5, -0.5]], dtype=float32)"
      ]
     },
     "execution_count": 35,
     "metadata": {},
     "output_type": "execute_result"
    }
   ],
   "source": [
    "import numpy as np\n",
    "np.linalg.inv(K)"
   ]
  },
  {
   "cell_type": "markdown",
   "id": "383ed5e7",
   "metadata": {
    "id": "383ed5e7",
    "origin_pos": 21
   },
   "source": [
    "Next, we rewrite the convolution kernel `K` as\n",
    "a sparse weight matrix `W`\n",
    "containing a lot of zeros.\n",
    "The shape of the weight matrix is ($4$, $9$),\n",
    "where the non-zero elements come from\n",
    "the convolution kernel `K`.\n"
   ]
  },
  {
   "cell_type": "code",
   "execution_count": 36,
   "id": "5c83e2aa",
   "metadata": {
    "execution": {
     "iopub.execute_input": "2023-08-18T19:40:33.738704Z",
     "iopub.status.busy": "2023-08-18T19:40:33.738150Z",
     "iopub.status.idle": "2023-08-18T19:40:33.746690Z",
     "shell.execute_reply": "2023-08-18T19:40:33.745684Z"
    },
    "id": "5c83e2aa",
    "origin_pos": 22,
    "outputId": "9de65cb0-a2c8-4e7e-9a38-f007a4d5e0d1",
    "tab": [
     "pytorch"
    ]
   },
   "outputs": [
    {
     "data": {
      "text/plain": [
       "tensor([[1., 2., 0., 3., 4., 0., 0., 0., 0.],\n",
       "        [0., 1., 2., 0., 3., 4., 0., 0., 0.],\n",
       "        [0., 0., 0., 1., 2., 0., 3., 4., 0.],\n",
       "        [0., 0., 0., 0., 1., 2., 0., 3., 4.]])"
      ]
     },
     "execution_count": 36,
     "metadata": {},
     "output_type": "execute_result"
    }
   ],
   "source": [
    "def kernel2matrix(K):\n",
    "    k, W = torch.zeros(5), torch.zeros((4, 9))\n",
    "    k[:2], k[3:5] = K[0, :], K[1, :]\n",
    "    W[0, :5], W[1, 1:6], W[2, 3:8], W[3, 4:] = k, k, k, k\n",
    "    return W\n",
    "\n",
    "W = kernel2matrix(K)\n",
    "W"
   ]
  },
  {
   "cell_type": "markdown",
   "id": "125346be",
   "metadata": {
    "id": "125346be",
    "origin_pos": 23
   },
   "source": [
    "Concatenate the input `X` row by row to get a vector of length 9. Then the matrix multiplication of `W` and the vectorized `X` gives a vector of length 4.\n",
    "After reshaping it, we can obtain the same result `Y`\n",
    "from the original convolution operation above:\n",
    "we just implemented convolutions using matrix multiplications.\n"
   ]
  },
  {
   "cell_type": "code",
   "execution_count": 37,
   "id": "444dbc7d",
   "metadata": {
    "execution": {
     "iopub.execute_input": "2023-08-18T19:40:33.750344Z",
     "iopub.status.busy": "2023-08-18T19:40:33.749752Z",
     "iopub.status.idle": "2023-08-18T19:40:33.757265Z",
     "shell.execute_reply": "2023-08-18T19:40:33.756389Z"
    },
    "id": "444dbc7d",
    "origin_pos": 24,
    "outputId": "96c45bbf-c377-4689-b229-ec020823feac",
    "tab": [
     "pytorch"
    ]
   },
   "outputs": [
    {
     "name": "stdout",
     "output_type": "stream",
     "text": [
      "tensor([[27., 37.],\n",
      "        [57., 67.]])\n"
     ]
    }
   ],
   "source": [
    "Y2 = torch.matmul(W, X.reshape(-1)).reshape(2, 2)\n",
    "print(Y2)"
   ]
  },
  {
   "cell_type": "markdown",
   "id": "f470126e",
   "metadata": {
    "id": "f470126e",
    "origin_pos": 25
   },
   "source": [
    "Likewise, we can implement transposed convolutions using\n",
    "matrix multiplications.\n",
    "In the following example,\n",
    "we take the $2 \\times 2$ output `Y` from the above\n",
    "regular convolution\n",
    "as input to the transposed convolution.\n",
    "To implement this operation by multiplying matrices,\n",
    "we only need to transpose the weight matrix `W`\n",
    "with the new shape $(9, 4)$.\n"
   ]
  },
  {
   "cell_type": "code",
   "execution_count": 38,
   "id": "e1834374",
   "metadata": {
    "execution": {
     "iopub.execute_input": "2023-08-18T19:40:33.761069Z",
     "iopub.status.busy": "2023-08-18T19:40:33.760455Z",
     "iopub.status.idle": "2023-08-18T19:40:33.767618Z",
     "shell.execute_reply": "2023-08-18T19:40:33.766760Z"
    },
    "id": "e1834374",
    "origin_pos": 26,
    "outputId": "66b94219-014e-4823-ea6a-253b9830c66a",
    "tab": [
     "pytorch"
    ]
   },
   "outputs": [
    {
     "name": "stdout",
     "output_type": "stream",
     "text": [
      "tensor([[ 27.,  91.,  74.],\n",
      "        [138., 400., 282.],\n",
      "        [171., 429., 268.]])\n",
      "tensor([[ 27.,  91.,  74.],\n",
      "        [138., 400., 282.],\n",
      "        [171., 429., 268.]])\n"
     ]
    }
   ],
   "source": [
    "y = torch.Tensor(Y)\n",
    "Z1 = trans_conv(Y, K)\n",
    "Z2 = torch.matmul(W.T, y.reshape(-1)).reshape(3, 3)\n",
    "print(Z1)\n",
    "print(Z2)"
   ]
  },
  {
   "cell_type": "markdown",
   "id": "08875952",
   "metadata": {
    "id": "08875952",
    "origin_pos": 27
   },
   "source": [
    "Consider implementing the convolution\n",
    "by multiplying matrices.\n",
    "Given an input vector $\\mathbf{x}$\n",
    "and a weight matrix $\\mathbf{W}$,\n",
    "the forward propagation function of the convolution\n",
    "can be implemented\n",
    "by multiplying its input with the weight matrix\n",
    "and outputting a vector\n",
    "$\\mathbf{y}=\\mathbf{W}\\mathbf{x}$.\n",
    "Since backpropagation\n",
    "follows the chain rule\n",
    "and $\\nabla_{\\mathbf{x}}\\mathbf{y}=\\mathbf{W}^\\top$,\n",
    "the backpropagation function of the convolution\n",
    "can be implemented\n",
    "by multiplying its input with the\n",
    "transposed weight matrix $\\mathbf{W}^\\top$.\n",
    "Therefore,\n",
    "the transposed convolutional layer\n",
    "can just exchange the forward propagation function\n",
    "and the backpropagation function of the convolutional layer:\n",
    "its forward propagation\n",
    "and backpropagation functions\n",
    "multiply their input vector with\n",
    "$\\mathbf{W}^\\top$ and $\\mathbf{W}$, respectively.\n",
    "\n",
    "\n",
    "## Summary\n",
    "\n",
    "* In contrast to the regular convolution that reduces input elements via the kernel, the transposed convolution broadcasts input elements via the kernel, thereby producing an output that is larger than the input.\n",
    "* If we feed $\\mathsf{X}$ into a convolutional layer $f$ to output $\\mathsf{Y}=f(\\mathsf{X})$ and create a transposed convolutional layer $g$ with the same hyperparameters as $f$ except for the number of output channels being the number of channels in $\\mathsf{X}$, then $g(Y)$ will have the same shape as $\\mathsf{X}$.\n",
    "* We can implement convolutions using matrix multiplications. The transposed convolutional layer can just exchange the forward propagation function and the backpropagation function of the convolutional layer.\n",
    "\n",
    "\n",
    "## Exercises\n",
    "\n",
    "1. In :numref:`subsec-connection-to-mat-transposition`, the convolution input `X` and the transposed convolution output `Z` have the same shape. Do they have the same value? Why?\n",
    "1. Is it efficient to use matrix multiplications to implement convolutions? Why?\n"
   ]
  },
  {
   "cell_type": "markdown",
   "id": "4a258080",
   "metadata": {},
   "source": [
    "This section is borrowed from [D2L](https://d2l.ai/chapter_computer-vision/transposed-conv.html)"
   ]
  },
  {
   "cell_type": "markdown",
   "id": "9da92119",
   "metadata": {},
   "source": [
    "**Further Reading**\n",
    "\n",
    "* [Transposed Convolution (In Persian)](https://cafetadris.com/blog/%DA%A9%D8%A7%D9%86%D9%88%D9%84%D9%88%D8%B4%D9%86-%D9%85%D8%B9%DA%A9%D9%88%D8%B3/)\n",
    "* [Transposed Conv as Matrix Multiplication explained, Medium](https://medium.com/@rmwkwok/explain-implement-and-compare-2d-transposed-convolution-in-numpy-tensorflow-and-pytorch-2068d986ec5)\n",
    "* [Transpose Convolutions and Autoencoders, CS, Toronto](https://www.cs.toronto.edu/~lczhang/321/lec/autoencoder_notes.html)\n",
    "* [Transposed Convolution, Coursera, Andrew Ng](https://www.coursera.org/lecture/convolutional-neural-networks/transpose-convolutions-kyoqR)\n",
    "* [A guide to convolution arithmetic for deep learning, Montreal](https://arxiv.org/pdf/1603.07285.pdf)"
   ]
  }
 ],
 "metadata": {
  "colab": {
   "provenance": []
  },
  "kernelspec": {
   "display_name": "pth",
   "language": "python",
   "name": "python3"
  },
  "language_info": {
   "codemirror_mode": {
    "name": "ipython",
    "version": 3
   },
   "file_extension": ".py",
   "mimetype": "text/x-python",
   "name": "python",
   "nbconvert_exporter": "python",
   "pygments_lexer": "ipython3",
   "version": "3.10.14"
  },
  "required_libs": []
 },
 "nbformat": 4,
 "nbformat_minor": 5
}
